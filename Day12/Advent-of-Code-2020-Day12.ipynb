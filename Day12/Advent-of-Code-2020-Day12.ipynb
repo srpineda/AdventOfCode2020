{
 "cells": [
  {
   "cell_type": "markdown",
   "metadata": {
    "id": "xT9cIauDKBJG"
   },
   "source": [
    "# Advent of Code 2020\n",
    "\n",
    "Advent of Code is an Advent calendar of small programming puzzles for a variety of skill sets and skill levels that can be solved in any programming language you like. https://adventofcode.com/2020/"
   ]
  },
  {
   "cell_type": "markdown",
   "metadata": {},
   "source": [
    "## Challenge Day 12: Rain Risk\n",
    "https://adventofcode.com/2020/day/12\n",
    "\n",
    "The navigation instructions (your puzzle input) consists of a sequence of single-character actions paired with integer input values."
   ]
  },
  {
   "cell_type": "markdown",
   "metadata": {},
   "source": [
    "### Part 1.\n",
    "After staring at them for a few minutes, you work out what they probably mean:\n",
    "\n",
    "- Action N means to move north by the given value.\n",
    "- Action S means to move south by the given value.\n",
    "- Action E means to move east by the given value.\n",
    "- Action W means to move west by the given value.\n",
    "- Action L means to turn left the given number of degrees.\n",
    "- Action R means to turn right the given number of degrees.\n",
    "- Action F means to move forward by the given value in the direction the ship is currently facing.\n",
    "\n",
    "The ship starts by facing east. Only the L and R actions change the direction the ship is facing. (That is, if the ship is facing east and the next instruction is N10, the ship would move north 10 units, but would still move east if the following action were F.)\n",
    "\n",
    "For example:\n",
    "\n",
    "    F10\n",
    "    N3\n",
    "    F7\n",
    "    R90\n",
    "    F11\n",
    "\n",
    "These instructions would be handled as follows:\n",
    "\n",
    "- F10 would move the ship 10 units east (because the ship starts by facing east) to east 10, north 0.\n",
    "- N3 would move the ship 3 units north to east 10, north 3.\n",
    "- F7 would move the ship another 7 units east (because the ship is still facing east) to east 17, north 3.\n",
    "- R90 would cause the ship to turn right by 90 degrees and face south; it remains at east 17, north 3.\n",
    "- F11 would move the ship 11 units south to east 17, south 8.\n",
    "\n",
    "At the end of these instructions, the ship's Manhattan distance (sum of the absolute values of its east/west position and its north/south position) from its starting position is 17 + 8 = 25.\n",
    "\n",
    "Figure out where the navigation instructions lead. What is the Manhattan distance between that location and the ship's starting position?"
   ]
  },
  {
   "cell_type": "code",
   "execution_count": 1,
   "metadata": {},
   "outputs": [],
   "source": [
    "def parse(filename):\n",
    "    with open(filename) as f:\n",
    "        data = f.read().strip().split()\n",
    "    for i in range(len(data)):\n",
    "        data[i] = [data[i][0], int(data[i][1:])]\n",
    "    return data"
   ]
  },
  {
   "cell_type": "code",
   "execution_count": 2,
   "metadata": {},
   "outputs": [],
   "source": [
    "def Manhattan_distance(data, face = 'NESW', i=1, north=0, east=0):\n",
    "    for action, value in data:\n",
    "        # Goes north\n",
    "        if action == 'N' or (action == 'F' and face[i] == 'N'):\n",
    "            north += value\n",
    "        # Goes south\n",
    "        elif action == 'S' or (action == 'F' and face[i] == 'S'):\n",
    "            north -= value\n",
    "        # Goes east\n",
    "        elif action == 'E' or (action == 'F' and face[i] == 'E'):\n",
    "            east += value\n",
    "        # Goes west\n",
    "        elif action == 'W' or (action == 'F' and face[i] == 'W'):\n",
    "            east -= value\n",
    "        \n",
    "        # If action is 'L' or 'R', we change the value of i, to change face\n",
    "        # Face to the left by some degree\n",
    "        elif action == 'L':\n",
    "            i = (i - int(value/90)) % 4\n",
    "        # Face to the right by some degree\n",
    "        elif action == 'R':\n",
    "            i = (i + int(value/90)) % 4\n",
    "    return abs(north) + abs(east)"
   ]
  },
  {
   "cell_type": "code",
   "execution_count": 3,
   "metadata": {},
   "outputs": [],
   "source": [
    "puzzle_input = parse('./data/Q12-puzzle-input.txt')"
   ]
  },
  {
   "cell_type": "code",
   "execution_count": 4,
   "metadata": {},
   "outputs": [
    {
     "data": {
      "text/plain": [
       "1956"
      ]
     },
     "execution_count": 4,
     "metadata": {},
     "output_type": "execute_result"
    }
   ],
   "source": [
    "Manhattan_distance(puzzle_input)"
   ]
  },
  {
   "cell_type": "markdown",
   "metadata": {},
   "source": [
    "### Part 2.\n",
    "Before you can give the destination to the captain, you realize that the actual action meanings were printed on the back of the instructions the whole time.\n",
    "\n",
    "Almost all of the actions indicate how to move a waypoint which is relative to the ship's position:\n",
    "\n",
    "- Action N means to move the waypoint north by the given value.\n",
    "- Action S means to move the waypoint south by the given value.\n",
    "- Action E means to move the waypoint east by the given value.\n",
    "- Action W means to move the waypoint west by the given value.\n",
    "- Action L means to rotate the waypoint around the ship left (counter-clockwise) the given number of degrees.\n",
    "- Action R means to rotate the waypoint around the ship right (clockwise) the given number of degrees.\n",
    "- Action F means to move forward to the waypoint a number of times equal to the given value.\n",
    "\n",
    "The waypoint starts 10 units east and 1 unit north relative to the ship. The waypoint is relative to the ship; that is, if the ship moves, the waypoint moves with it.\n",
    "\n",
    "For example, using the same instructions as above:\n",
    "\n",
    "- F10 moves the ship to the waypoint 10 times (a total of 100 units east and 10 units north), leaving the ship at east 100, north 10. The waypoint stays 10 units east and 1 unit north of the ship.\n",
    "- N3 moves the waypoint 3 units north to 10 units east and 4 units north of the ship. The ship remains at east 100, north 10.\n",
    "- F7 moves the ship to the waypoint 7 times (a total of 70 units east and 28 units north), leaving the ship at east 170, north 38. The waypoint stays 10 units east and 4 units north of the ship.\n",
    "- R90 rotates the waypoint around the ship clockwise 90 degrees, moving it to 4 units east and 10 units south of the ship. The ship remains at east 170, north 38.\n",
    "- F11 moves the ship to the waypoint 11 times (a total of 44 units east and 110 units south), leaving the ship at east 214, south 72. The waypoint stays 4 units east and 10 units south of the ship.\n",
    "\n",
    "After these operations, the ship's Manhattan distance from its starting position is 214 + 72 = 286.\n",
    "\n",
    "Figure out where the navigation instructions actually lead. What is the Manhattan distance between that location and the ship's starting position?"
   ]
  },
  {
   "cell_type": "code",
   "execution_count": 5,
   "metadata": {},
   "outputs": [],
   "source": [
    "def Manhattan_distance_part2(data, north=0, east=0):\n",
    "    waypoint = {'N': 1, 'E': 10}\n",
    "    for action, value in data:\n",
    "        i=0\n",
    "        j=1\n",
    "        # Action F\n",
    "        if action == 'F':\n",
    "            north += waypoint['N']*value\n",
    "            east += waypoint['E']*value\n",
    "        # Action N\n",
    "        elif action == 'N':\n",
    "            waypoint['N'] += value\n",
    "        # Action S\n",
    "        elif action == 'S':\n",
    "            waypoint['N'] -= value\n",
    "        # Action E\n",
    "        elif action == 'E':\n",
    "            waypoint['E'] += value\n",
    "        # Action W\n",
    "        elif action == 'W':\n",
    "            waypoint['E'] -= value\n",
    "\n",
    "        # Action L or R\n",
    "        else:\n",
    "            if action == 'L':\n",
    "                i = (i - int(value/90)) % 4\n",
    "                j = (j - int(value/90)) % 4\n",
    "            elif action == 'R':\n",
    "                i = (i + int(value/90)) % 4\n",
    "                j = (j + int(value/90)) % 4\n",
    "            new_waypoint = waypoint.copy()\n",
    "            # NESW\n",
    "            if i==1: # N changes to E\n",
    "                waypoint['E'] = new_waypoint['N']\n",
    "            elif i==2: # N changes to S\n",
    "                waypoint['N'] = -new_waypoint['N']\n",
    "            elif i==3: # N changes to W\n",
    "                waypoint['E'] = -new_waypoint['N']\n",
    "            if j==0: # E changes to N\n",
    "                waypoint['N'] = new_waypoint['E']\n",
    "            elif j==2: # E changes to S\n",
    "                waypoint['N'] = -new_waypoint['E']\n",
    "            elif j==3: # E changes to W\n",
    "                waypoint['E'] = -new_waypoint['E']\n",
    "    return abs(north) + abs(east)"
   ]
  },
  {
   "cell_type": "code",
   "execution_count": 6,
   "metadata": {},
   "outputs": [
    {
     "data": {
      "text/plain": [
       "126797"
      ]
     },
     "execution_count": 6,
     "metadata": {},
     "output_type": "execute_result"
    }
   ],
   "source": [
    "Manhattan_distance_part2(puzzle_input)"
   ]
  },
  {
   "cell_type": "code",
   "execution_count": null,
   "metadata": {},
   "outputs": [],
   "source": []
  }
 ],
 "metadata": {
  "colab": {
   "authorship_tag": "ABX9TyMnEIpue78FVaApxkA+D4Bl",
   "collapsed_sections": [],
   "name": "Advent-of-Code-2020.ipynb",
   "provenance": []
  },
  "kernelspec": {
   "display_name": "Python 3",
   "language": "python",
   "name": "python3"
  },
  "language_info": {
   "codemirror_mode": {
    "name": "ipython",
    "version": 3
   },
   "file_extension": ".py",
   "mimetype": "text/x-python",
   "name": "python",
   "nbconvert_exporter": "python",
   "pygments_lexer": "ipython3",
   "version": "3.8.5"
  }
 },
 "nbformat": 4,
 "nbformat_minor": 1
}
