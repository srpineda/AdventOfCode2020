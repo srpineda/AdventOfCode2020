{
 "cells": [
  {
   "cell_type": "markdown",
   "metadata": {},
   "source": [
    "# Advent of Code 2020\n",
    "\n",
    "Advent of Code is an Advent calendar of small programming puzzles for a variety of skill sets and skill levels that can be solved in any programming language you like. https://adventofcode.com/2020/"
   ]
  },
  {
   "cell_type": "markdown",
   "metadata": {},
   "source": [
    "## Challenge Day 8: Handheld Halting\n",
    "The handheld game console won't turn on!\n",
    "You narrow the problem down to a strange infinite loop in the boot code (your puzzle input) of the device.\n",
    "\n",
    "The boot code is represented as a text file with one instruction per line of text. Each instruction consists of an operation (acc, jmp, or nop) and an argument (a signed number like +4 or -20).\n",
    "\n",
    "- acc increases or decreases a single global value called the accumulator by the value given in the argument. For example, acc +7 would increase the accumulator by 7. The accumulator starts at 0. After an acc instruction, the instruction immediately below it is executed next.\n",
    "- jmp jumps to a new instruction relative to itself. The next instruction to execute is found using the argument as an offset from the jmp instruction; for example, jmp +2 would skip the next instruction, jmp +1 would continue to the instruction immediately below it, and jmp -20 would cause the instruction 20 lines above to be executed next.\n",
    "- nop stands for No OPeration - it does nothing. The instruction immediately below it is executed next."
   ]
  },
  {
   "cell_type": "markdown",
   "metadata": {},
   "source": [
    "### Part 1.\n",
    "Run your copy of the boot code. Immediately before any instruction is executed a second time, what value is in the accumulator?"
   ]
  },
  {
   "cell_type": "code",
   "execution_count": 1,
   "metadata": {},
   "outputs": [],
   "source": [
    "with open('./data/Q8-puzzle-input.txt') as f:\n",
    "    data = f.read().strip().split('\\n')"
   ]
  },
  {
   "cell_type": "code",
   "execution_count": 2,
   "metadata": {},
   "outputs": [],
   "source": [
    "for i in range(len(data)):\n",
    "    data[i] = data[i].split()\n",
    "    data[i][1] = int(data[i][1])"
   ]
  },
  {
   "cell_type": "code",
   "execution_count": 3,
   "metadata": {},
   "outputs": [
    {
     "data": {
      "text/plain": [
       "([['jmp', 412], ['acc', -16], ['acc', -19], ['acc', -19], ['jmp', 423]], int)"
      ]
     },
     "execution_count": 3,
     "metadata": {},
     "output_type": "execute_result"
    }
   ],
   "source": [
    "data[5:10], type(data[5][1])"
   ]
  },
  {
   "cell_type": "code",
   "execution_count": 4,
   "metadata": {},
   "outputs": [],
   "source": [
    "traversed = list()\n",
    "acc=0"
   ]
  },
  {
   "cell_type": "code",
   "execution_count": 5,
   "metadata": {},
   "outputs": [],
   "source": [
    "def loop(data, i=0):\n",
    "    global acc\n",
    "    if i not in traversed:\n",
    "        traversed.append(i)\n",
    "        if data[i][0] == 'acc':\n",
    "            acc += data[i][1]\n",
    "            return loop(data, i+1)\n",
    "\n",
    "        elif data[i][0] == 'nop':\n",
    "            return loop(data, i+1)\n",
    "\n",
    "        elif data[i][0] == 'jmp':\n",
    "            return loop(data, i+data[i][1])\n",
    "    return acc"
   ]
  },
  {
   "cell_type": "code",
   "execution_count": 6,
   "metadata": {},
   "outputs": [
    {
     "data": {
      "text/plain": [
       "2051"
      ]
     },
     "execution_count": 6,
     "metadata": {},
     "output_type": "execute_result"
    }
   ],
   "source": [
    "loop(data)"
   ]
  },
  {
   "cell_type": "markdown",
   "metadata": {},
   "source": [
    "### Part 2.\n",
    "After some careful analysis, you believe that exactly one instruction is corrupted.\n",
    "\n",
    "Somewhere in the program, either a jmp is supposed to be a nop, or a nop is supposed to be a jmp. (No acc instructions were harmed in the corruption of this boot code.)\n",
    "\n",
    "The program is supposed to terminate by attempting to execute an instruction immediately after the last instruction in the file. By changing exactly one jmp or nop, you can repair the boot code and make it terminate correctly.\n",
    "\n",
    "Fix the program so that it terminates normally by changing exactly one jmp (to nop) or nop (to jmp). What is the value of the accumulator after the program terminates?"
   ]
  },
  {
   "cell_type": "code",
   "execution_count": 7,
   "metadata": {},
   "outputs": [
    {
     "data": {
      "text/plain": [
       "[0,\n",
       " 583,\n",
       " 584,\n",
       " 354,\n",
       " 355,\n",
       " 356,\n",
       " 357,\n",
       " 464,\n",
       " 465,\n",
       " 466,\n",
       " 467,\n",
       " 468,\n",
       " 448,\n",
       " 449,\n",
       " 450,\n",
       " 19,\n",
       " 20,\n",
       " 21,\n",
       " 90,\n",
       " 91,\n",
       " 549,\n",
       " 550,\n",
       " 551,\n",
       " 552,\n",
       " 410,\n",
       " 314,\n",
       " 315,\n",
       " 316,\n",
       " 317,\n",
       " 318,\n",
       " 440,\n",
       " 178,\n",
       " 179,\n",
       " 180,\n",
       " 181,\n",
       " 34,\n",
       " 35,\n",
       " 36,\n",
       " 37,\n",
       " 199,\n",
       " 200,\n",
       " 201,\n",
       " 84,\n",
       " 162,\n",
       " 163,\n",
       " 164,\n",
       " 165,\n",
       " 5,\n",
       " 417,\n",
       " 418,\n",
       " 419,\n",
       " 519,\n",
       " 520,\n",
       " 521,\n",
       " 522,\n",
       " 388,\n",
       " 389,\n",
       " 73,\n",
       " 74,\n",
       " 75,\n",
       " 76,\n",
       " 205,\n",
       " 206,\n",
       " 207,\n",
       " 208,\n",
       " 209,\n",
       " 348,\n",
       " 349,\n",
       " 350,\n",
       " 351,\n",
       " 352,\n",
       " 344,\n",
       " 345,\n",
       " 346,\n",
       " 131,\n",
       " 132,\n",
       " 133,\n",
       " 335,\n",
       " 336,\n",
       " 337,\n",
       " 338,\n",
       " 339,\n",
       " 529,\n",
       " 530,\n",
       " 531,\n",
       " 477,\n",
       " 478,\n",
       " 155,\n",
       " 156,\n",
       " 157,\n",
       " 494,\n",
       " 374,\n",
       " 375,\n",
       " 376,\n",
       " 377,\n",
       " 378,\n",
       " 29,\n",
       " 30,\n",
       " 421,\n",
       " 274,\n",
       " 275,\n",
       " 276,\n",
       " 277,\n",
       " 278,\n",
       " 509,\n",
       " 510,\n",
       " 511,\n",
       " 512,\n",
       " 513,\n",
       " 139,\n",
       " 140,\n",
       " 141,\n",
       " 60,\n",
       " 61,\n",
       " 62,\n",
       " 291,\n",
       " 292,\n",
       " 293,\n",
       " 294,\n",
       " 295,\n",
       " 384,\n",
       " 385,\n",
       " 241,\n",
       " 242,\n",
       " 243,\n",
       " 244,\n",
       " 599,\n",
       " 455,\n",
       " 456,\n",
       " 457,\n",
       " 458,\n",
       " 443,\n",
       " 444,\n",
       " 412,\n",
       " 432,\n",
       " 433,\n",
       " 434,\n",
       " 587,\n",
       " 588,\n",
       " 589,\n",
       " 590,\n",
       " 115,\n",
       " 116,\n",
       " 68,\n",
       " 69,\n",
       " 70,\n",
       " 71,\n",
       " 577,\n",
       " 578,\n",
       " 220,\n",
       " 221,\n",
       " 496,\n",
       " 497,\n",
       " 498,\n",
       " 499,\n",
       " 470,\n",
       " 471,\n",
       " 214,\n",
       " 215,\n",
       " 216,\n",
       " 217,\n",
       " 218,\n",
       " 359,\n",
       " 360,\n",
       " 361,\n",
       " 405,\n",
       " 557,\n",
       " 558,\n",
       " 618,\n",
       " 619,\n",
       " 620,\n",
       " 621,\n",
       " 542,\n",
       " 543,\n",
       " 544,\n",
       " 545,\n",
       " 546,\n",
       " 298,\n",
       " 299,\n",
       " 300,\n",
       " 301,\n",
       " 302,\n",
       " 146,\n",
       " 147,\n",
       " 148,\n",
       " 149,\n",
       " 150,\n",
       " 321,\n",
       " 48,\n",
       " 571,\n",
       " 572,\n",
       " 363,\n",
       " 364,\n",
       " 10,\n",
       " 11,\n",
       " 12,\n",
       " 13,\n",
       " 50,\n",
       " 51,\n",
       " 52,\n",
       " 53,\n",
       " 54,\n",
       " 261,\n",
       " 262,\n",
       " 263]"
      ]
     },
     "execution_count": 7,
     "metadata": {},
     "output_type": "execute_result"
    }
   ],
   "source": [
    "traversed"
   ]
  },
  {
   "cell_type": "code",
   "execution_count": 8,
   "metadata": {},
   "outputs": [],
   "source": [
    "# Among the traversed, isolate the indices of the jmp and nop\n",
    "traversed_jmp_nop = list()\n",
    "for i in traversed:\n",
    "    if data[i][0]=='jmp' or data[i][0]=='nop':\n",
    "        traversed_jmp_nop.append(i)"
   ]
  },
  {
   "cell_type": "code",
   "execution_count": 9,
   "metadata": {},
   "outputs": [
    {
     "data": {
      "text/plain": [
       "(205, 91)"
      ]
     },
     "execution_count": 9,
     "metadata": {},
     "output_type": "execute_result"
    }
   ],
   "source": [
    "len(traversed), len(traversed_jmp_nop)"
   ]
  },
  {
   "cell_type": "code",
   "execution_count": 10,
   "metadata": {},
   "outputs": [],
   "source": [
    "def loop2(data, i=0):\n",
    "    for j in traversed_jmp_nop:\n",
    "        traversed = list()\n",
    "        acc=0\n",
    "        i=0\n",
    "        k=0\n",
    "        def loop(data, i):\n",
    "            nonlocal acc\n",
    "            if i>=len(data):\n",
    "                nonlocal k\n",
    "                k=i\n",
    "                return\n",
    "            if i not in traversed:\n",
    "                traversed.append(i)\n",
    "                if data[i][0] == 'acc':\n",
    "                    acc += data[i][1]\n",
    "                    return loop(data, i+1)\n",
    "\n",
    "                elif data[i][0] == 'nop':\n",
    "                    if i==j:\n",
    "                        return loop(data, i+data[i][1])\n",
    "                    return loop(data, i+1)\n",
    "\n",
    "                elif data[i][0] == 'jmp':\n",
    "                    if i==j:\n",
    "                        return loop(data, i+1)\n",
    "                    return loop(data, i+data[i][1])\n",
    "            return\n",
    "        loop(data, i)\n",
    "        if k>=len(data):\n",
    "            return acc"
   ]
  },
  {
   "cell_type": "code",
   "execution_count": 11,
   "metadata": {},
   "outputs": [
    {
     "data": {
      "text/plain": [
       "2304"
      ]
     },
     "execution_count": 11,
     "metadata": {},
     "output_type": "execute_result"
    }
   ],
   "source": [
    "loop2(data)"
   ]
  },
  {
   "cell_type": "code",
   "execution_count": null,
   "metadata": {},
   "outputs": [],
   "source": []
  }
 ],
 "metadata": {
  "kernelspec": {
   "display_name": "Python 3",
   "language": "python",
   "name": "python3"
  },
  "language_info": {
   "codemirror_mode": {
    "name": "ipython",
    "version": 3
   },
   "file_extension": ".py",
   "mimetype": "text/x-python",
   "name": "python",
   "nbconvert_exporter": "python",
   "pygments_lexer": "ipython3",
   "version": "3.8.5"
  }
 },
 "nbformat": 4,
 "nbformat_minor": 4
}
