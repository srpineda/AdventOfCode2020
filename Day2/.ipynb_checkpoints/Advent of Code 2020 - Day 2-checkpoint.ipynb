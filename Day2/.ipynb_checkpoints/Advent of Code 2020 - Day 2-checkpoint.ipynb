{
 "cells": [
  {
   "cell_type": "markdown",
   "metadata": {},
   "source": [
    "# Advent of Code 2020\n",
    "\n",
    "Advent of Code is an Advent calendar of small programming puzzles for a variety of skill sets and skill levels that can be solved in any programming language you like."
   ]
  },
  {
   "cell_type": "markdown",
   "metadata": {},
   "source": [
    "## Challenge Day 2\n",
    "Each line gives the password policy and then the password."
   ]
  },
  {
   "cell_type": "markdown",
   "metadata": {},
   "source": [
    "### Part 1. \n",
    "The password policy indicates the lowest and highest number of times a given letter must appear for the password to be valid. For example, 1-3 a means that the password must contain a at least 1 time and at most 3 times. How many passwords are valid according to their policies?"
   ]
  },
  {
   "cell_type": "code",
   "execution_count": 1,
   "metadata": {},
   "outputs": [],
   "source": [
    "import pandas as pd\n",
    "import re"
   ]
  },
  {
   "cell_type": "code",
   "execution_count": 2,
   "metadata": {},
   "outputs": [
    {
     "data": {
      "text/plain": [
       "0    13-17 s: ssssssssssssgsssj\n",
       "1             7-9 p: pnlzhcppvl\n",
       "2                 5-6 z: zzbwrv\n",
       "3      7-15 w: wwwwwcqwwwwwwwww\n",
       "4             8-9 h: hhhhhhhhsh\n",
       "Name: puzzle_input_day2, dtype: object"
      ]
     },
     "execution_count": 2,
     "metadata": {},
     "output_type": "execute_result"
    }
   ],
   "source": [
    "day2_puzzle_input = pd.read_csv('./data/Q2-puzzle-input.csv')\n",
    "day2_puzzle_input['puzzle_input_day2'][:5]"
   ]
  },
  {
   "cell_type": "code",
   "execution_count": 3,
   "metadata": {},
   "outputs": [],
   "source": [
    "def policy1(string):\n",
    "    var = re.sub(':', '', string)\n",
    "    var = re.sub('-',' ', var)\n",
    "    var = re.split('\\s', var)\n",
    "    return int(var[0]) <= len(re.findall(var[2], var[3])) <= int(var[1])"
   ]
  },
  {
   "cell_type": "code",
   "execution_count": 4,
   "metadata": {},
   "outputs": [
    {
     "data": {
      "text/plain": [
       "546"
      ]
     },
     "execution_count": 4,
     "metadata": {},
     "output_type": "execute_result"
    }
   ],
   "source": [
    "count=0\n",
    "for string in day2_puzzle_input['puzzle_input_day2']:\n",
    "    if policy1(string):\n",
    "        count+=1\n",
    "count"
   ]
  },
  {
   "cell_type": "markdown",
   "metadata": {},
   "source": [
    "### Part 2.\n",
    "Each policy actually describes two positions in the password, where 1 means the first character, 2 means the second character, and so on. A password is valid if the letter is one of the given positions but not both.\n",
    "\n",
    "How many passwords are valid according to the new interpretation of the policies?"
   ]
  },
  {
   "cell_type": "code",
   "execution_count": 5,
   "metadata": {},
   "outputs": [],
   "source": [
    "def policy2(string):\n",
    "    var = re.sub(':', '', string)\n",
    "    var = re.sub('-',' ', var)\n",
    "    var = re.split('\\s', var)\n",
    "    position1 = int(var[0]) - 1\n",
    "    position2 = int(var[1]) - 1\n",
    "    conditions = [var[3][position1]==var[2], var[3][position2]==var[2]]\n",
    "    return any(conditions) and not all(conditions)"
   ]
  },
  {
   "cell_type": "code",
   "execution_count": 6,
   "metadata": {},
   "outputs": [
    {
     "data": {
      "text/plain": [
       "275"
      ]
     },
     "execution_count": 6,
     "metadata": {},
     "output_type": "execute_result"
    }
   ],
   "source": [
    "count=0\n",
    "for string in day2_puzzle_input['puzzle_input_day2']:\n",
    "    if policy2(string):\n",
    "        count+=1\n",
    "count"
   ]
  }
 ],
 "metadata": {
  "kernelspec": {
   "display_name": "Python 3",
   "language": "python",
   "name": "python3"
  },
  "language_info": {
   "codemirror_mode": {
    "name": "ipython",
    "version": 3
   },
   "file_extension": ".py",
   "mimetype": "text/x-python",
   "name": "python",
   "nbconvert_exporter": "python",
   "pygments_lexer": "ipython3",
   "version": "3.8.5"
  }
 },
 "nbformat": 4,
 "nbformat_minor": 4
}
