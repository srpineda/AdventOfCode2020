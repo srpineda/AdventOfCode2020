{
 "cells": [
  {
   "cell_type": "markdown",
   "metadata": {},
   "source": [
    "# Advent of Code 2020\n",
    "\n",
    "Advent of Code is an Advent calendar of small programming puzzles for a variety of skill sets and skill levels that can be solved in any programming language you like. https://adventofcode.com/2020/"
   ]
  },
  {
   "cell_type": "markdown",
   "metadata": {},
   "source": [
    "## Challenge Day 4\n",
    "https://adventofcode.com/2020/day/4"
   ]
  },
  {
   "cell_type": "markdown",
   "metadata": {},
   "source": [
    "### Part 1:\n",
    "Required fields:\n",
    "- byr (Birth Year)\n",
    "- iyr (Issue Year)\n",
    "- eyr (Expiration Year)\n",
    "- hgt (Height)\n",
    "- hcl (Hair Color)\n",
    "- ecl (Eye Color)\n",
    "- pid (Passport ID)\n",
    "- cid (Country ID) (optional)\n",
    "\n",
    "Count the number of valid passports - those that have all required fields. Treat `cid` as optional. In your batch file, how many passports are valid?"
   ]
  },
  {
   "cell_type": "code",
   "execution_count": 168,
   "metadata": {},
   "outputs": [],
   "source": [
    "import re"
   ]
  },
  {
   "cell_type": "code",
   "execution_count": 167,
   "metadata": {},
   "outputs": [
    {
     "data": {
      "text/plain": [
       "['ecl:#eef340 eyr:2023 hcl:#c0946f pid:244684338 iyr:2020 cid:57 byr:1969 hgt:152cm',\n",
       " 'pid:303807545 cid:213 ecl:gry hcl:#fffffd\\neyr:2038 byr:1951\\nhgt:171cm iyr:2011',\n",
       " 'hcl:#c0946f byr:1933 eyr:2025 pid:517067213 hgt:173cm\\necl:hzl\\niyr:2018',\n",
       " 'pid:5253256652 byr:2009 hgt:152cm iyr:1989 eyr:1968 hcl:64cb63 ecl:hzl',\n",
       " 'iyr:2013\\npid:862607211 eyr:2020\\nhgt:174cm\\nbyr:1990\\necl:blu hcl:#888785']"
      ]
     },
     "execution_count": 167,
     "metadata": {},
     "output_type": "execute_result"
    }
   ],
   "source": [
    "with open('./data/Q4-puzzle-input.txt') as f:\n",
    "    passports = f.read().split('\\n\\n')\n",
    "passports[:5]"
   ]
  },
  {
   "cell_type": "code",
   "execution_count": 13,
   "metadata": {},
   "outputs": [],
   "source": [
    "required_fields = ['byr:', 'iyr:', 'eyr:', 'hgt:', 'hcl:', 'ecl:', 'pid:']"
   ]
  },
  {
   "cell_type": "code",
   "execution_count": 17,
   "metadata": {},
   "outputs": [],
   "source": [
    "def valid_passports_count(passports, required_fields):\n",
    "    count=0\n",
    "    for passport in passports:\n",
    "        conditions = []\n",
    "        for field in required_fields:\n",
    "            conditions.append(re.search(field, passport))\n",
    "        if all(conditions):\n",
    "            count+=1\n",
    "    return count"
   ]
  },
  {
   "cell_type": "code",
   "execution_count": 19,
   "metadata": {},
   "outputs": [
    {
     "data": {
      "text/plain": [
       "206"
      ]
     },
     "execution_count": 19,
     "metadata": {},
     "output_type": "execute_result"
    }
   ],
   "source": [
    "valid_passports_count(passports, required_fields)"
   ]
  },
  {
   "cell_type": "markdown",
   "metadata": {},
   "source": [
    "### Part 2.\n",
    "Let's add some data validation.\n",
    "\n",
    "You can continue to ignore the `cid` field, but each other field has strict rules about what values are valid for automatic validation:\n",
    "\n",
    "- byr (Birth Year) - four digits; at least 1920 and at most 2002.\n",
    "- iyr (Issue Year) - four digits; at least 2010 and at most 2020.\n",
    "- eyr (Expiration Year) - four digits; at least 2020 and at most 2030.\n",
    "- hgt (Height) - a number followed by either cm or in:\n",
    "    - If cm, the number must be at least 150 and at most 193.\n",
    "    - If in, the number must be at least 59 and at most 76.\n",
    "- hcl (Hair Color) - a hashtag `#` followed by exactly six characters 0-9 or a-f.\n",
    "- ecl (Eye Color) - exactly one of: amb blu brn gry grn hzl oth.\n",
    "- pid (Passport ID) - a nine-digit number, including leading zeroes.\n",
    "- cid (Country ID) - ignored, missing or not.\n",
    "\n",
    "Your job is to count the passports where all required fields are both present and valid according to the above rules."
   ]
  },
  {
   "cell_type": "code",
   "execution_count": 169,
   "metadata": {},
   "outputs": [],
   "source": [
    "def all_fields_present(passport, required_fields):\n",
    "    '''Checks if all fields are present'''\n",
    "    conditions = []\n",
    "    for field in required_fields:\n",
    "        conditions.append(re.search(field, passport))\n",
    "    return all(conditions)"
   ]
  },
  {
   "cell_type": "code",
   "execution_count": 170,
   "metadata": {},
   "outputs": [],
   "source": [
    "def byr_valid(passport):\n",
    "    '''Checks birth yr validity'''\n",
    "    byr = re.findall(r'byr:\\s?\\d+\\b', passport)\n",
    "    byr = re.findall(r'\\d+', byr[0])\n",
    "    return (1920 <= int(byr[0]) <= 2002)"
   ]
  },
  {
   "cell_type": "code",
   "execution_count": 171,
   "metadata": {},
   "outputs": [],
   "source": [
    "def iyr_valid(passport):\n",
    "    '''Checks issue yr validity'''\n",
    "    iyr = re.findall(r'iyr:\\s?\\d+\\b', passport)\n",
    "    iyr = re.findall(r'\\d+', iyr[0])\n",
    "    return (2010 <= int(iyr[0]) <= 2020)"
   ]
  },
  {
   "cell_type": "code",
   "execution_count": 172,
   "metadata": {},
   "outputs": [],
   "source": [
    "def eyr_valid(passport):\n",
    "    '''Checks expiration yr'''\n",
    "    eyr = re.findall(r'eyr:\\s?\\d+\\b', passport)\n",
    "    eyr = re.findall(r'\\d+', eyr[0])\n",
    "    return (2020 <= int(eyr[0]) <= 2030)"
   ]
  },
  {
   "cell_type": "code",
   "execution_count": 173,
   "metadata": {},
   "outputs": [],
   "source": [
    "def hgt_valid(passport):\n",
    "    '''Checks height'''\n",
    "    hgt = re.findall(r'hgt:\\s?\\d+.+', passport)\n",
    "    hgt_condition = False\n",
    "    if re.search('cm', hgt[0]):\n",
    "        hgt_cm = re.findall(r'\\d+', hgt[0])\n",
    "        hgt_condition = (150 <= int(hgt_cm[0]) <= 193)\n",
    "    elif re.search('in', hgt[0]):\n",
    "        hgt_in = re.findall(r'\\d+', hgt[0])\n",
    "        hgt_condition = (59 <= int(hgt_in[0]) <= 76)\n",
    "    return hgt_condition"
   ]
  },
  {
   "cell_type": "code",
   "execution_count": 174,
   "metadata": {},
   "outputs": [],
   "source": [
    "def hcl_valid(passport):\n",
    "    '''Checks hair color'''\n",
    "    return re.search('hcl:\\s?#\\w{6}', passport)"
   ]
  },
  {
   "cell_type": "code",
   "execution_count": 175,
   "metadata": {},
   "outputs": [],
   "source": [
    "def ecl_valid(passport):\n",
    "    '''Checks eye color'''\n",
    "    ecl = re.findall(r'ecl:\\s?.+\\b', passport)\n",
    "    eye_colors = ['amb', 'blu', 'brn', 'gry', 'grn', 'hzl', 'oth']\n",
    "    eye_conditions = []\n",
    "    for color in eye_colors:\n",
    "        eye_conditions.append(re.search(color, ecl[0]))\n",
    "    return any(eye_conditions) and not all(eye_conditions)"
   ]
  },
  {
   "cell_type": "code",
   "execution_count": 176,
   "metadata": {},
   "outputs": [],
   "source": [
    "def pid_valid(passport):\n",
    "    '''Checks pid'''\n",
    "    return re.search(r'pid:\\s?\\d{9}\\b', passport)"
   ]
  },
  {
   "cell_type": "code",
   "execution_count": 177,
   "metadata": {},
   "outputs": [],
   "source": [
    "def stricter_valid_passports_count(passports, required_fields):\n",
    "    count=0\n",
    "    for passport in passports:\n",
    "        if all_fields_present(passport, required_fields):\n",
    "            conditions = [byr_valid(passport),\n",
    "                          iyr_valid(passport),\n",
    "                          eyr_valid(passport),\n",
    "                          hgt_valid(passport),\n",
    "                          hcl_valid(passport),\n",
    "                          ecl_valid(passport),\n",
    "                          pid_valid(passport)]\n",
    "            if all(conditions):\n",
    "                count+=1      \n",
    "    return count"
   ]
  },
  {
   "cell_type": "code",
   "execution_count": 178,
   "metadata": {},
   "outputs": [
    {
     "data": {
      "text/plain": [
       "123"
      ]
     },
     "execution_count": 178,
     "metadata": {},
     "output_type": "execute_result"
    }
   ],
   "source": [
    "stricter_valid_passports_count(passports, required_fields)"
   ]
  },
  {
   "cell_type": "code",
   "execution_count": null,
   "metadata": {},
   "outputs": [],
   "source": []
  }
 ],
 "metadata": {
  "kernelspec": {
   "display_name": "Python 3",
   "language": "python",
   "name": "python3"
  },
  "language_info": {
   "codemirror_mode": {
    "name": "ipython",
    "version": 3
   },
   "file_extension": ".py",
   "mimetype": "text/x-python",
   "name": "python",
   "nbconvert_exporter": "python",
   "pygments_lexer": "ipython3",
   "version": "3.8.5"
  }
 },
 "nbformat": 4,
 "nbformat_minor": 4
}
