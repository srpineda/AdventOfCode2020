{
 "cells": [
  {
   "cell_type": "markdown",
   "metadata": {},
   "source": [
    "# Advent of Code 2020\n",
    "\n",
    "Advent of Code is an Advent calendar of small programming puzzles for a variety of skill sets and skill levels that can be solved in any programming language you like. https://adventofcode.com/2020/"
   ]
  },
  {
   "cell_type": "markdown",
   "metadata": {},
   "source": [
    "## Challenge Day 7: Handy Haversacks\n",
    "Due to recent aviation regulations, many rules (your puzzle input) are being enforced about bags and their contents; bags must be color-coded and must contain specific quantities of other color-coded bags."
   ]
  },
  {
   "cell_type": "markdown",
   "metadata": {},
   "source": [
    "### Part 1.\n",
    "How many bag colors can eventually contain at least one shiny gold bag?"
   ]
  },
  {
   "cell_type": "code",
   "execution_count": 1,
   "metadata": {},
   "outputs": [],
   "source": [
    "with open('./data/Q7-puzzle-input.txt') as f:\n",
    "    bag_rules = f.read().strip().split('\\n')"
   ]
  },
  {
   "cell_type": "code",
   "execution_count": 2,
   "metadata": {
    "scrolled": true
   },
   "outputs": [
    {
     "data": {
      "text/plain": [
       "['mirrored gold bags contain 3 light teal bags.',\n",
       " 'clear gold bags contain 5 light maroon bags, 4 pale tomato bags, 5 clear blue bags.',\n",
       " 'dark olive bags contain 5 plaid black bags, 2 dim plum bags, 2 light cyan bags.',\n",
       " 'bright white bags contain 2 pale violet bags, 5 mirrored orange bags, 3 faded beige bags.',\n",
       " 'posh green bags contain 4 shiny gray bags.']"
      ]
     },
     "execution_count": 2,
     "metadata": {},
     "output_type": "execute_result"
    }
   ],
   "source": [
    "bag_rules[:5]"
   ]
  },
  {
   "cell_type": "code",
   "execution_count": 3,
   "metadata": {},
   "outputs": [],
   "source": [
    "for rule in bag_rules:\n",
    "    bag_rules[bag_rules.index(rule)] = rule.split('contain')"
   ]
  },
  {
   "cell_type": "code",
   "execution_count": 4,
   "metadata": {
    "scrolled": true
   },
   "outputs": [
    {
     "data": {
      "text/plain": [
       "[['mirrored gold bags ', ' 3 light teal bags.'],\n",
       " ['clear gold bags ',\n",
       "  ' 5 light maroon bags, 4 pale tomato bags, 5 clear blue bags.'],\n",
       " ['dark olive bags ',\n",
       "  ' 5 plaid black bags, 2 dim plum bags, 2 light cyan bags.'],\n",
       " ['bright white bags ',\n",
       "  ' 2 pale violet bags, 5 mirrored orange bags, 3 faded beige bags.'],\n",
       " ['posh green bags ', ' 4 shiny gray bags.']]"
      ]
     },
     "execution_count": 4,
     "metadata": {},
     "output_type": "execute_result"
    }
   ],
   "source": [
    "bag_rules[:5]"
   ]
  },
  {
   "cell_type": "code",
   "execution_count": 5,
   "metadata": {},
   "outputs": [],
   "source": [
    "import re"
   ]
  },
  {
   "cell_type": "code",
   "execution_count": 6,
   "metadata": {},
   "outputs": [],
   "source": [
    "total_baglist = set()\n",
    "bags = ['shiny gold bag']\n",
    "def bag_count(bags):\n",
    "    big_bags = set()\n",
    "    for rule in bag_rules:\n",
    "        for bag in bags:\n",
    "            if re.search(bag, rule[1]):\n",
    "                big_bags.add(rule[0])\n",
    "    bags = big_bags.difference(total_baglist)\n",
    "    if len(bags): \n",
    "        total_baglist.update(bags)\n",
    "        bags = list(bags)\n",
    "        for i in range(len(bags)):\n",
    "            bags[i] = re.sub('bags', 'bag', bags[i])\n",
    "            bags[i] = bags[i].strip()\n",
    "        return bag_count(bags)\n",
    "    return"
   ]
  },
  {
   "cell_type": "code",
   "execution_count": 7,
   "metadata": {},
   "outputs": [],
   "source": [
    "bag_count(bags)"
   ]
  },
  {
   "cell_type": "code",
   "execution_count": 8,
   "metadata": {
    "scrolled": true
   },
   "outputs": [
    {
     "data": {
      "text/plain": [
       "278"
      ]
     },
     "execution_count": 8,
     "metadata": {},
     "output_type": "execute_result"
    }
   ],
   "source": [
    "len(total_baglist)"
   ]
  },
  {
   "cell_type": "markdown",
   "metadata": {},
   "source": [
    "### Part 2.\n",
    "How many individual bags are required inside your single shiny gold bag?"
   ]
  },
  {
   "cell_type": "code",
   "execution_count": 9,
   "metadata": {},
   "outputs": [],
   "source": [
    "with open('./data/Q7-puzzle-input.txt') as f:\n",
    "    bag_rules = f.read().strip().split('\\n')\n",
    "for i in range(len(bag_rules)):\n",
    "    bag_rules[i] = bag_rules[i].split('contain')\n",
    "    bag_rules[i][1] = bag_rules[i][1].split(',')\n",
    "    for j in range(len(bag_rules[i][1])):\n",
    "        bag_rules[i][1][j] = bag_rules[i][1][j].strip().strip('s').strip('s.').split(' ', 1)\n",
    "        if bag_rules[i][1][j][0] == 'no':\n",
    "            bag_rules[i][1][j][0] = 0"
   ]
  },
  {
   "cell_type": "code",
   "execution_count": 10,
   "metadata": {},
   "outputs": [
    {
     "data": {
      "text/plain": [
       "[['mirrored gold bags ', [['3', 'light teal bag']]],\n",
       " ['clear gold bags ',\n",
       "  [['5', 'light maroon bag'],\n",
       "   ['4', 'pale tomato bag'],\n",
       "   ['5', 'clear blue bag']]],\n",
       " ['dark olive bags ',\n",
       "  [['5', 'plaid black bag'], ['2', 'dim plum bag'], ['2', 'light cyan bag']]]]"
      ]
     },
     "execution_count": 10,
     "metadata": {},
     "output_type": "execute_result"
    }
   ],
   "source": [
    "bag_rules[:3]"
   ]
  },
  {
   "cell_type": "code",
   "execution_count": 11,
   "metadata": {},
   "outputs": [],
   "source": [
    "total = 0"
   ]
  },
  {
   "cell_type": "code",
   "execution_count": 12,
   "metadata": {},
   "outputs": [],
   "source": [
    "def total_contents(current, prev_total=1):\n",
    "    global total\n",
    "    if current != 'other bag':\n",
    "        # Get a list of the contents of the current bag\n",
    "        for rule in bag_rules:\n",
    "            if re.search(current, rule[0]):\n",
    "                current_contents = rule[1]\n",
    "        contents_total = 0\n",
    "        # Get a list of the contents of the contents of the current bag\n",
    "        for content in current_contents:\n",
    "            current = content[1]\n",
    "            contents_total += prev_total*int(content[0])\n",
    "            total_contents(current, prev_total*int(content[0]))\n",
    "        total += contents_total\n",
    "    return total"
   ]
  },
  {
   "cell_type": "code",
   "execution_count": 13,
   "metadata": {},
   "outputs": [
    {
     "data": {
      "text/plain": [
       "45157"
      ]
     },
     "execution_count": 13,
     "metadata": {},
     "output_type": "execute_result"
    }
   ],
   "source": [
    "total_contents('shiny gold bag')"
   ]
  },
  {
   "cell_type": "code",
   "execution_count": null,
   "metadata": {},
   "outputs": [],
   "source": []
  }
 ],
 "metadata": {
  "kernelspec": {
   "display_name": "Python 3",
   "language": "python",
   "name": "python3"
  },
  "language_info": {
   "codemirror_mode": {
    "name": "ipython",
    "version": 3
   },
   "file_extension": ".py",
   "mimetype": "text/x-python",
   "name": "python",
   "nbconvert_exporter": "python",
   "pygments_lexer": "ipython3",
   "version": "3.8.5"
  }
 },
 "nbformat": 4,
 "nbformat_minor": 4
}
