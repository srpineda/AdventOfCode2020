{
 "cells": [
  {
   "cell_type": "markdown",
   "metadata": {},
   "source": [
    "# Advent of Code 2020\n",
    "\n",
    "Advent of Code is an Advent calendar of small programming puzzles for a variety of skill sets and skill levels that can be solved in any programming language you like. https://adventofcode.com/2020/"
   ]
  },
  {
   "cell_type": "markdown",
   "metadata": {},
   "source": [
    "## Challenge Day 5: Binary Boarding\n",
    "https://adventofcode.com/2020/day/5\n",
    "\n",
    "The airline uses binary space partitioning to seat people. A seat might be specified like FBFBBFFRLR, where F means \"front\", B means \"back\", L means \"left\", and R means \"right\".\n",
    "\n",
    "The first 7 characters will either be F or B; these specify exactly one of the 128 rows on the plane (numbered 0 through 127). Each letter tells you which half of a region the given seat is in. Start with the whole list of rows; the first letter indicates whether the seat is in the front (0 through 63) or the back (64 through 127). The next letter indicates which half of that region the seat is in, and so on until you're left with exactly one row.\n",
    "\n",
    "The last three characters will be either L or R; these specify exactly one of the 8 columns of seats on the plane (numbered 0 through 7). The same process as above proceeds again, this time with only three steps. L means to keep the lower half, while R means to keep the upper half.\n",
    "\n",
    "So, decoding FBFBBFFRLR reveals that it is the seat at row 44, column 5.\n",
    "\n",
    "Every seat also has a unique seat ID: multiply the row by 8, then add the column. In this example, the seat has ID 44 * 8 + 5 = 357."
   ]
  },
  {
   "cell_type": "markdown",
   "metadata": {},
   "source": [
    "### Part 1.\n",
    "Look through your list of boarding passes. What is the highest seat ID on a boarding pass?"
   ]
  },
  {
   "cell_type": "code",
   "execution_count": 1,
   "metadata": {},
   "outputs": [
    {
     "data": {
      "text/plain": [
       "['FFBFBFBRRL', 'FBFFBFBLRR', 'FFFBBFBRLR', 'FBBFFBFRRR', 'FBBBFFFLRR']"
      ]
     },
     "execution_count": 1,
     "metadata": {},
     "output_type": "execute_result"
    }
   ],
   "source": [
    "with open('./data/Q5-puzzle-input.txt') as f:\n",
    "    boarding_passes = f.read().split()\n",
    "boarding_passes[:5]"
   ]
  },
  {
   "cell_type": "code",
   "execution_count": 2,
   "metadata": {},
   "outputs": [],
   "source": [
    "from math import floor, ceil, inf"
   ]
  },
  {
   "cell_type": "code",
   "execution_count": 3,
   "metadata": {},
   "outputs": [],
   "source": [
    "def seat(boarding_pass):\n",
    "    r_first = 0\n",
    "    r_last = 127\n",
    "    c_first = 0\n",
    "    c_last = 7\n",
    "    for letter in boarding_pass:\n",
    "        if letter=='F':\n",
    "            r_first = r_first\n",
    "            r_last = r_first + floor((r_last-r_first)/2)\n",
    "        elif letter=='B':\n",
    "            r_first = r_first + ceil((r_last-r_first)/2)\n",
    "            r_last = r_last\n",
    "        elif letter=='L':\n",
    "            c_first = c_first\n",
    "            c_last = c_first + floor((c_last-c_first)/2)\n",
    "        elif letter=='R':\n",
    "            c_first = c_first + ceil((c_last-c_first)/2)\n",
    "            c_last = c_last\n",
    "    if sample1[6]=='F':\n",
    "        row = r_first\n",
    "    else:\n",
    "        row = r_last\n",
    "    if sample1[9]=='L':\n",
    "        col = c_first\n",
    "    else:\n",
    "        col = c_last\n",
    "    return(row,col)"
   ]
  },
  {
   "cell_type": "code",
   "execution_count": 4,
   "metadata": {},
   "outputs": [],
   "source": [
    "def seatID(boarding_pass):\n",
    "    row = seat(boarding_pass)[0]\n",
    "    col = seat(boarding_pass)[1]\n",
    "    return(row*8 + col)"
   ]
  },
  {
   "cell_type": "code",
   "execution_count": 5,
   "metadata": {},
   "outputs": [],
   "source": [
    "# row = 44, col = 5, seatID = 357\n",
    "sample1 = 'FBFBBFFRLR'"
   ]
  },
  {
   "cell_type": "code",
   "execution_count": 6,
   "metadata": {},
   "outputs": [
    {
     "data": {
      "text/plain": [
       "357"
      ]
     },
     "execution_count": 6,
     "metadata": {},
     "output_type": "execute_result"
    }
   ],
   "source": [
    "# Check if the function works\n",
    "seatID(sample1)"
   ]
  },
  {
   "cell_type": "code",
   "execution_count": 7,
   "metadata": {},
   "outputs": [
    {
     "data": {
      "text/plain": [
       "904"
      ]
     },
     "execution_count": 7,
     "metadata": {},
     "output_type": "execute_result"
    }
   ],
   "source": [
    "# Highest Seat ID\n",
    "maximum=0\n",
    "for boarding_pass in boarding_passes:\n",
    "    if seatID(boarding_pass) >= maximum:\n",
    "        maximum = seatID(boarding_pass)\n",
    "maximum"
   ]
  },
  {
   "cell_type": "markdown",
   "metadata": {},
   "source": [
    "### Part 2.\n",
    "It's a completely full flight, so your seat should be the only missing boarding pass in your list. However, some of the seats at the very front and back of the plane don't exist on this aircraft, so they'll be missing from your list as well.\n",
    "\n",
    "Your seat wasn't at the very front or back, though; the seats with IDs +1 and -1 from yours will be in your list.\n",
    "\n",
    "What is the ID of your seat?"
   ]
  },
  {
   "cell_type": "code",
   "execution_count": 8,
   "metadata": {},
   "outputs": [
    {
     "name": "stdout",
     "output_type": "stream",
     "text": [
      "669\n"
     ]
    }
   ],
   "source": [
    "seatIDs = []\n",
    "for boarding_pass in boarding_passes:\n",
    "    seatIDs.append(seatID(boarding_pass))\n",
    "\n",
    "for ID1 in seatIDs:\n",
    "    if ID1+1 not in seatIDs:\n",
    "        if ID1+2 in seatIDs:\n",
    "            print(ID1+1)"
   ]
  },
  {
   "cell_type": "code",
   "execution_count": null,
   "metadata": {},
   "outputs": [],
   "source": []
  }
 ],
 "metadata": {
  "kernelspec": {
   "display_name": "Python 3",
   "language": "python",
   "name": "python3"
  },
  "language_info": {
   "codemirror_mode": {
    "name": "ipython",
    "version": 3
   },
   "file_extension": ".py",
   "mimetype": "text/x-python",
   "name": "python",
   "nbconvert_exporter": "python",
   "pygments_lexer": "ipython3",
   "version": "3.8.5"
  }
 },
 "nbformat": 4,
 "nbformat_minor": 4
}
