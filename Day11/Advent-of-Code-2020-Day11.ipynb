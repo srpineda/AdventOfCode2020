{
 "cells": [
  {
   "cell_type": "markdown",
   "metadata": {
    "id": "xT9cIauDKBJG"
   },
   "source": [
    "# Advent of Code 2020\n",
    "\n",
    "Advent of Code is an Advent calendar of small programming puzzles for a variety of skill sets and skill levels that can be solved in any programming language you like. https://adventofcode.com/2020/"
   ]
  },
  {
   "cell_type": "markdown",
   "metadata": {},
   "source": [
    "## Challenge Day 11: Seating System\n",
    "https://adventofcode.com/2020/day/11\n",
    "\n",
    "By modeling the process people use to choose (or abandon) their seat in the waiting area, you're pretty sure you can predict the best place to sit. You make a quick map of the seat layout (your puzzle input).\n",
    "\n",
    "The seat layout fits neatly on a grid. Each position is either floor (.), an empty seat (L), or an occupied seat (#)."
   ]
  },
  {
   "cell_type": "markdown",
   "metadata": {},
   "source": [
    "### Part 1.\n",
    "\n",
    "All decisions are based on the number of occupied seats adjacent to a given seat (one of the eight positions immediately up, down, left, right, or diagonal from the seat). The following rules are applied to every seat simultaneously:\n",
    "\n",
    "1. If a seat is empty (L) and there are no occupied seats adjacent to it, the seat becomes occupied.\n",
    "2. If a seat is occupied (#) and four or more seats adjacent to it are also occupied, the seat becomes empty.\n",
    "3. Otherwise, the seat's state does not change.\n",
    "\n",
    "- Floor (.) never changes; seats don't move, and nobody sits on the floor.\n",
    "\n",
    "At this point, something interesting happens: the chaos stabilizes and further applications of these rules cause no seats to change state!\n",
    "\n",
    "Simulate your seating area by applying the seating rules repeatedly until no seats change state. How many seats end up occupied?"
   ]
  },
  {
   "cell_type": "code",
   "execution_count": 1,
   "metadata": {},
   "outputs": [
    {
     "data": {
      "text/plain": [
       "['L', 'L', 'L', 'L', 'L', 'L', '.', 'L', 'L', 'L']"
      ]
     },
     "execution_count": 1,
     "metadata": {},
     "output_type": "execute_result"
    }
   ],
   "source": [
    "with open('./data/Q11-puzzle-input.txt') as f:\n",
    "    puzzle_input = f.read().strip().split()\n",
    "for i in range(len(puzzle_input)):\n",
    "    puzzle_input[i] = list(puzzle_input[i])\n",
    "puzzle_input[1][:10]"
   ]
  },
  {
   "cell_type": "code",
   "execution_count": 2,
   "metadata": {},
   "outputs": [],
   "source": [
    "from copy import deepcopy\n",
    "\n",
    "def count_occupied_seats_part1(i,j,data):\n",
    "    occupied = 0\n",
    "    for ki in range(-1,2):\n",
    "        for kj in range(-1,2):\n",
    "            if (i+ki in range(len(data)) and j+kj in range(len(data[i]))) and (ki,kj) != (0,0):\n",
    "                if data[i+ki][j+kj] == '#':\n",
    "                    occupied += 1\n",
    "    return occupied\n",
    "\n",
    "def occupy_seats(data, tolerance, count_occupied_seats):\n",
    "    new_seatplan = deepcopy(data)\n",
    "    hashtags = 0\n",
    "    for i in range(len(data)):\n",
    "        for j in range(len(data[i])):\n",
    "            # Rule 1: If it is 'L' and all adjacent seats are not '#', it becomes '#'\n",
    "            occupied = count_occupied_seats(i,j,data)\n",
    "            if data[i][j] == 'L':\n",
    "                if not occupied:\n",
    "                    new_seatplan[i][j] = '#'\n",
    "            # Rule 2: If it is '#' and occupied seats >= tolerance, it becomes 'L'\n",
    "            elif data[i][j] == '#':\n",
    "                hashtags += 1\n",
    "                if occupied >= tolerance:\n",
    "                    new_seatplan[i][j] = 'L'            \n",
    "    if data == new_seatplan:\n",
    "        return hashtags\n",
    "    return occupy_seats(data=new_seatplan, tolerance=tolerance, count_occupied_seats=count_occupied_seats)"
   ]
  },
  {
   "cell_type": "code",
   "execution_count": 3,
   "metadata": {},
   "outputs": [
    {
     "data": {
      "text/plain": [
       "2222"
      ]
     },
     "execution_count": 3,
     "metadata": {},
     "output_type": "execute_result"
    }
   ],
   "source": [
    "occupy_seats(puzzle_input, 4, count_occupied_seats_part1)"
   ]
  },
  {
   "cell_type": "markdown",
   "metadata": {},
   "source": [
    "### Part 2.\n",
    "As soon as people start to arrive, you realize your mistake. People don't just care about adjacent seats - they care about the first seat they can see in each of those eight directions!\n",
    "\n",
    "Now, instead of considering just the eight immediately adjacent seats, consider the first seat in each of those eight directions.\n",
    "\n",
    "Also, people seem to be more tolerant than you expected: it now takes five or more visible occupied seats for an occupied seat to become empty (rather than four or more from the previous rules). The other rules still apply: empty seats that see no occupied seats become occupied, seats matching no rule don't change, and floor never changes.\n",
    "\n",
    "Again, at this point, people stop shifting around and the seating area reaches equilibrium.\n",
    "\n",
    "Given the new visibility method and the rule change for occupied seats becoming empty, once equilibrium is reached, how many seats end up occupied?"
   ]
  },
  {
   "cell_type": "code",
   "execution_count": 4,
   "metadata": {},
   "outputs": [],
   "source": [
    "def count_occupied_seats_part2(i, j, data):\n",
    "    occupied = 0\n",
    "    # Check seats up\n",
    "    for ki in range(1, i+1):\n",
    "        if data[i-ki][j] == 'L':\n",
    "            break\n",
    "        elif data[i-ki][j] == '#':\n",
    "            occupied += 1\n",
    "            break\n",
    "    # Check seats down\n",
    "    for ki in range(1, len(data)-i):\n",
    "        if data[i+ki][j] == 'L':\n",
    "            break\n",
    "        elif data[i+ki][j] == '#':\n",
    "            occupied += 1\n",
    "            break\n",
    "    # Check seats left\n",
    "    for kj in range(1, j+1):\n",
    "        if data[i][j-kj] == 'L':\n",
    "            break\n",
    "        elif data[i][j-kj] == '#':\n",
    "            occupied += 1\n",
    "            break\n",
    "    # Check seats right\n",
    "    for kj in range(1, len(data[i])-j):\n",
    "        if data[i][j+kj] == 'L':\n",
    "            break\n",
    "        elif data[i][j+kj] == '#':\n",
    "            occupied += 1\n",
    "            break    \n",
    "    # Check seats diagonally upwards to the right\n",
    "    for kd in range(1, min(i+1, len(data[i])-j)):\n",
    "        if data[i-kd][j+kd] == 'L':\n",
    "            break\n",
    "        elif data[i-kd][j+kd] == '#':\n",
    "            occupied += 1\n",
    "            break\n",
    "    # Check seats diagonally upwards to the left\n",
    "    for kd in range(1, min(i+1, j+1)):\n",
    "        if data[i-kd][j-kd] == 'L':\n",
    "            break\n",
    "        elif data[i-kd][j-kd] == '#':\n",
    "            occupied += 1\n",
    "            break\n",
    "    # Check seats diagonally downwards to the right\n",
    "    for kd in range(1, min(len(data)-i, len(data[i])-j)):\n",
    "        if data[i+kd][j+kd] == 'L':\n",
    "            break\n",
    "        elif data[i+kd][j+kd] == '#':\n",
    "            occupied += 1\n",
    "            break\n",
    "    # Check seats diagonally downwards to the left\n",
    "    for kd in range(1, min(len(data)-i, j+1)):\n",
    "        if data[i+kd][j-kd] == 'L':\n",
    "            break\n",
    "        elif data[i+kd][j-kd] == '#':\n",
    "            occupied += 1\n",
    "            break\n",
    "    return occupied"
   ]
  },
  {
   "cell_type": "code",
   "execution_count": 5,
   "metadata": {},
   "outputs": [
    {
     "data": {
      "text/plain": [
       "2032"
      ]
     },
     "execution_count": 5,
     "metadata": {},
     "output_type": "execute_result"
    }
   ],
   "source": [
    "occupy_seats(puzzle_input, 5, count_occupied_seats_part2)"
   ]
  },
  {
   "cell_type": "code",
   "execution_count": null,
   "metadata": {},
   "outputs": [],
   "source": []
  }
 ],
 "metadata": {
  "colab": {
   "authorship_tag": "ABX9TyMnEIpue78FVaApxkA+D4Bl",
   "collapsed_sections": [],
   "name": "Advent-of-Code-2020.ipynb",
   "provenance": []
  },
  "kernelspec": {
   "display_name": "Python 3",
   "language": "python",
   "name": "python3"
  },
  "language_info": {
   "codemirror_mode": {
    "name": "ipython",
    "version": 3
   },
   "file_extension": ".py",
   "mimetype": "text/x-python",
   "name": "python",
   "nbconvert_exporter": "python",
   "pygments_lexer": "ipython3",
   "version": "3.8.5"
  }
 },
 "nbformat": 4,
 "nbformat_minor": 1
}
