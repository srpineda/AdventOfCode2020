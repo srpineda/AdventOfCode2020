{
 "cells": [
  {
   "cell_type": "markdown",
   "metadata": {},
   "source": [
    "# Advent of Code 2020\n",
    "\n",
    "Advent of Code is an Advent calendar of small programming puzzles for a variety of skill sets and skill levels that can be solved in any programming language you like."
   ]
  },
  {
   "cell_type": "markdown",
   "metadata": {},
   "source": [
    "## Challenge Day 1"
   ]
  },
  {
   "cell_type": "markdown",
   "metadata": {},
   "source": [
    "### Part 1:\n",
    "The Elves in accounting just need you to fix your expense report (your puzzle input); apparently, something isn't quite adding up. Specifically, they need you to find the two entries that sum to 2020 and then multiply those two numbers together."
   ]
  },
  {
   "cell_type": "code",
   "execution_count": 1,
   "metadata": {},
   "outputs": [],
   "source": [
    "import pandas as pd"
   ]
  },
  {
   "cell_type": "code",
   "execution_count": 15,
   "metadata": {},
   "outputs": [
    {
     "data": {
      "text/plain": [
       "[1778,\n",
       " 1845,\n",
       " 1813,\n",
       " 1889,\n",
       " 1939,\n",
       " 1635,\n",
       " 1443,\n",
       " 796,\n",
       " 1799,\n",
       " 938,\n",
       " 1488,\n",
       " 1922,\n",
       " 1909,\n",
       " 1258,\n",
       " 1659,\n",
       " 1959,\n",
       " 1557,\n",
       " 1085,\n",
       " 1379,\n",
       " 1174,\n",
       " 1782,\n",
       " 1482,\n",
       " 1702,\n",
       " 1180,\n",
       " 1992,\n",
       " 1815,\n",
       " 1802,\n",
       " 215,\n",
       " 1649,\n",
       " 782,\n",
       " 1847,\n",
       " 1673,\n",
       " 1823,\n",
       " 1836,\n",
       " 1447,\n",
       " 1603,\n",
       " 1767,\n",
       " 1891,\n",
       " 1964,\n",
       " 1881,\n",
       " 1637,\n",
       " 1229,\n",
       " 1994,\n",
       " 1901,\n",
       " 1583,\n",
       " 1918,\n",
       " 1415,\n",
       " 1666,\n",
       " 1155,\n",
       " 1446,\n",
       " 1315,\n",
       " 1345,\n",
       " 1948,\n",
       " 1427,\n",
       " 1242,\n",
       " 1088,\n",
       " 807,\n",
       " 1747,\n",
       " 1514,\n",
       " 1351,\n",
       " 1791,\n",
       " 1612,\n",
       " 1550,\n",
       " 1926,\n",
       " 1455,\n",
       " 85,\n",
       " 1594,\n",
       " 1965,\n",
       " 1884,\n",
       " 1677,\n",
       " 1960,\n",
       " 1631,\n",
       " 1585,\n",
       " 1472,\n",
       " 1263,\n",
       " 1566,\n",
       " 1998,\n",
       " 1698,\n",
       " 1968,\n",
       " 1927,\n",
       " 1378,\n",
       " 1346,\n",
       " 1710,\n",
       " 1921,\n",
       " 1827,\n",
       " 1869,\n",
       " 1187,\n",
       " 1985,\n",
       " 1323,\n",
       " 1225,\n",
       " 1474,\n",
       " 1179,\n",
       " 1580,\n",
       " 1098,\n",
       " 1737,\n",
       " 1483,\n",
       " 1665,\n",
       " 1445,\n",
       " 1979,\n",
       " 1754,\n",
       " 1854,\n",
       " 1897,\n",
       " 1405,\n",
       " 1912,\n",
       " 1614,\n",
       " 1390,\n",
       " 1773,\n",
       " 1493,\n",
       " 1333,\n",
       " 1758,\n",
       " 1867,\n",
       " 1586,\n",
       " 1347,\n",
       " 1723,\n",
       " 1285,\n",
       " 394,\n",
       " 1743,\n",
       " 1252,\n",
       " 320,\n",
       " 1547,\n",
       " 1804,\n",
       " 1899,\n",
       " 1526,\n",
       " 1739,\n",
       " 1533,\n",
       " 1938,\n",
       " 1081,\n",
       " 1465,\n",
       " 1920,\n",
       " 1265,\n",
       " 1470,\n",
       " 1792,\n",
       " 1118,\n",
       " 1842,\n",
       " 1204,\n",
       " 1760,\n",
       " 1663,\n",
       " 893,\n",
       " 1853,\n",
       " 1244,\n",
       " 1256,\n",
       " 1428,\n",
       " 1334,\n",
       " 1967,\n",
       " 1249,\n",
       " 1752,\n",
       " 1124,\n",
       " 1725,\n",
       " 1949,\n",
       " 1340,\n",
       " 1205,\n",
       " 1584,\n",
       " 548,\n",
       " 1947,\n",
       " 2002,\n",
       " 1993,\n",
       " 1931,\n",
       " 1236,\n",
       " 1154,\n",
       " 1572,\n",
       " 1650,\n",
       " 1678,\n",
       " 1944,\n",
       " 1868,\n",
       " 1129,\n",
       " 1911,\n",
       " 1106,\n",
       " 1900,\n",
       " 1240,\n",
       " 1955,\n",
       " 1219,\n",
       " 1893,\n",
       " 1459,\n",
       " 1556,\n",
       " 1173,\n",
       " 1924,\n",
       " 1568,\n",
       " 1950,\n",
       " 1303,\n",
       " 1886,\n",
       " 1365,\n",
       " 1402,\n",
       " 1711,\n",
       " 1706,\n",
       " 1671,\n",
       " 1866,\n",
       " 1403,\n",
       " 1816,\n",
       " 1717,\n",
       " 1674,\n",
       " 1487,\n",
       " 1840,\n",
       " 1951,\n",
       " 1255,\n",
       " 1786,\n",
       " 1111,\n",
       " 1280,\n",
       " 1625,\n",
       " 1478,\n",
       " 1453]"
      ]
     },
     "execution_count": 15,
     "metadata": {},
     "output_type": "execute_result"
    }
   ],
   "source": [
    "puzzle_input = pd.read_csv('./data/Q1-puzzle-input.csv')\n",
    "puzzle_input = list(puzzle_input['Puzzle_input'])\n",
    "puzzle_input"
   ]
  },
  {
   "cell_type": "code",
   "execution_count": 18,
   "metadata": {},
   "outputs": [
    {
     "name": "stdout",
     "output_type": "stream",
     "text": [
      "806656\n"
     ]
    }
   ],
   "source": [
    "for num in puzzle_input:\n",
    "    if (2020-num) in puzzle_input:\n",
    "        print(num*(2020-num))\n",
    "        break"
   ]
  },
  {
   "cell_type": "markdown",
   "metadata": {},
   "source": [
    "### Part 2:\n",
    "In your expense report, what is the product of the three entries that sum to 2020?"
   ]
  },
  {
   "cell_type": "code",
   "execution_count": 28,
   "metadata": {},
   "outputs": [],
   "source": [
    "def findXYZ(puzzle_input):\n",
    "    for num1 in puzzle_input:\n",
    "        for num2 in puzzle_input:\n",
    "            if (2020-(num1+num2)) in puzzle_input:\n",
    "                return (num1*num2*(2020-(num1+num2)))"
   ]
  },
  {
   "cell_type": "code",
   "execution_count": 29,
   "metadata": {},
   "outputs": [
    {
     "data": {
      "text/plain": [
       "230608320"
      ]
     },
     "execution_count": 29,
     "metadata": {},
     "output_type": "execute_result"
    }
   ],
   "source": [
    "findXYZ(puzzle_input)"
   ]
  },
  {
   "cell_type": "code",
   "execution_count": null,
   "metadata": {},
   "outputs": [],
   "source": []
  }
 ],
 "metadata": {
  "kernelspec": {
   "display_name": "Python 3",
   "language": "python",
   "name": "python3"
  },
  "language_info": {
   "codemirror_mode": {
    "name": "ipython",
    "version": 3
   },
   "file_extension": ".py",
   "mimetype": "text/x-python",
   "name": "python",
   "nbconvert_exporter": "python",
   "pygments_lexer": "ipython3",
   "version": "3.8.5"
  }
 },
 "nbformat": 4,
 "nbformat_minor": 4
}
